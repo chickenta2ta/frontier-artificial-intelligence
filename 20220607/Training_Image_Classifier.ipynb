{
  "nbformat": 4,
  "nbformat_minor": 0,
  "metadata": {
    "colab": {
      "name": "Training_Image_Classifier.ipynb",
      "provenance": [],
      "collapsed_sections": []
    },
    "kernelspec": {
      "name": "python3",
      "display_name": "Python 3"
    },
    "accelerator": "GPU",
    "gpuClass": "standard"
  },
  "cells": [
    {
      "cell_type": "markdown",
      "metadata": {
        "id": "1IbueRPyhpdv"
      },
      "source": [
        "# **画像分類器を訓練する**\n",
        "ここでは具体的なデータを使用して実際に画像分類器を作成し、訓練を行います.\n",
        "\n",
        "本節は [Pytorch公式Tutorial:TRAINING A CLASSIFIER](https://pytorch.org/tutorials/beginner/blitz/cifar10_tutorial.html#sphx-glr-beginner-blitz-cifar10-tutorial-py) をベースに作成されています。"
      ]
    },
    {
      "cell_type": "markdown",
      "metadata": {
        "id": "bkcGDoN_uTzA"
      },
      "source": [
        "## **1 データについて**\n",
        "\n",
        "ここまでに Neural Network(NN) の定義の仕方，損失計算の仕方，重みの更新の仕方を見てきました．\n",
        "しかし実際にNNで学習を行うためにはデータを用意しなければなりません．\n",
        "\n",
        "\n",
        "一般に，画像，テキスト，音声またはビデオデータを扱う際，データをnumpy配列に読み込む以下の様な python パッケージが使用できます．\n",
        "\n",
        "\n",
        "*   画像については，Pillow, OpenCV など．\n",
        "*   音声については，scipy と librosa など．\n",
        "*   テキストについては，単純に Python や Cython ベースの読み込み，または NLTK と SpaCy など．\n",
        "\n",
        "\n",
        "これらの方法でデータをnumpy 配列に読み込んだ後，PyTorchで扱うために torch.Tensor に変換することができます．\n",
        "\n",
        "### **1.1 torchvision**\n",
        "ここでは特に画像データについて扱います．画像データに関してPyTorchではtorchvisionというパッケージが用意されており，画像の読み込みや変換を簡潔に行うことができます．またImageNet，CIFAR-10，MNIST 等の一般的なデータセットを素早く扱うこともできます．\n",
        "\n",
        "### **1.2 CIFAR-10**\n",
        "CIFAR-10を使用して実際に画像分類器を作成、訓練します．\n",
        "\n",
        "CIFAR-10は‘飛行機’, ‘自動車’, ‘鳥’, ‘猫’, ‘鹿’, ‘犬’, ‘蛙’, ‘馬’, ‘船’, ‘トラック’ の10クラスについてサイズ 3x32x32の画像を集めたデータセットです．32×32 pixelのカラー画像(3チャンネル画像)を扱うことになります．（図は[PyTorch公式チュートリアル](https://pytorch.org/tutorials/)より引用）\n",
        "\n",
        "<img src=\"https://pytorch.org/tutorials/_images/cifar10.png\" width=500>"
      ]
    },
    {
      "cell_type": "code",
      "metadata": {
        "id": "JoXklAkwB8tv",
        "colab": {
          "base_uri": "https://localhost:8080/"
        },
        "outputId": "cc88c397-10c8-4227-b160-b589afb539ec"
      },
      "source": [
        "from google.colab import drive # driveを接続\n",
        "drive.mount('/content/drive')\n",
        "\n",
        "# drive中の課題ファイルのあるディレクトリに移動\n",
        "%cd /content/drive/My Drive/Colab Notebooks/先端人工知能論I/20220607/"
      ],
      "execution_count": 1,
      "outputs": [
        {
          "output_type": "stream",
          "name": "stdout",
          "text": [
            "Drive already mounted at /content/drive; to attempt to forcibly remount, call drive.mount(\"/content/drive\", force_remount=True).\n",
            "/content/drive/My Drive/Colab Notebooks/先端人工知能論I/20220607\n"
          ]
        }
      ]
    },
    {
      "cell_type": "markdown",
      "metadata": {
        "id": "XCZ3Nj9hwbqZ"
      },
      "source": [
        "## **2 画像分類器の訓練**\n",
        "\n",
        "### **2.1 CIFAR-10の読み込みと正規化**\n",
        "torchvisionを使用してCIFAR-10を読み込みます．"
      ]
    },
    {
      "cell_type": "code",
      "metadata": {
        "id": "Roxw3eFIuI_P"
      },
      "source": [
        "import torch\n",
        "import torchvision\n",
        "import torchvision.transforms as transforms"
      ],
      "execution_count": 2,
      "outputs": []
    },
    {
      "cell_type": "markdown",
      "metadata": {
        "id": "CW7Z0izwxSv9"
      },
      "source": [
        "torchvision から読み込む CIFAR-10 は値が [0, 1] に調整された PILImage 画像です．PILImage 画像とは画像処理ライブラリであるPillowで扱われる形式の画像です．\n",
        "\n",
        "それらを NN に入力するために値が [-1, 1] の正規化された torch.Tensor に変換します．\n",
        "\n",
        "以下のコードを実行するとCIFAR-10がダウンロードされ，正規化され，torch.Tensor に変換されます．"
      ]
    },
    {
      "cell_type": "code",
      "metadata": {
        "id": "eWDnYlJmw99O",
        "colab": {
          "base_uri": "https://localhost:8080/"
        },
        "outputId": "c15ad091-919f-4e5a-b9ea-ec311f23054e"
      },
      "source": [
        "#変換器の作成\n",
        "#transforms.Composeによって複数の変換を組み合わせ、データを読み込む際に使用するデータ変換器を作成します．\n",
        "#ここではPILImageをtorch.Tensorに変換したのち正規化を行う変換器を作成します．\n",
        "transform = transforms.Compose(\n",
        "    [transforms.ToTensor(),  # torch.Tensor へ変換\n",
        "     transforms.Normalize((0.5, 0.5, 0.5), (0.5, 0.5, 0.5))])  # 正規化する\n",
        " \n",
        "#訓練データのダウンロードと変換\n",
        "#扱うデータの集合であるデータセットを作成します．\n",
        "#データは読み込まれる際に変換器によって変換され取り出されます．\n",
        "trainset = torchvision.datasets.CIFAR10(root='./data', train=True,\n",
        "                                        download=True, transform=transform)\n",
        "#訓練データのローダ(読み込み器)の作成\n",
        "#データセットからデータを読み込むローダを作成します．\n",
        "#ローダを挟むことで同時に幾つのデータを読み込むか、順番に読み込むかランダムに読み込むかなどデータの読み込み方を容易に設定できます．\n",
        "#またnum_workersの指定によってデータ読み込みの並列化を容易に実現できます．\n",
        "trainloader = torch.utils.data.DataLoader(trainset, batch_size=4,\n",
        "                                          shuffle=True, num_workers=2)\n",
        " \n",
        "#テストデータのダウンロードと変換\n",
        "testset = torchvision.datasets.CIFAR10(root='./data', train=False,\n",
        "                                       download=True, transform=transform)\n",
        "#テストデータのローダ(読み込み器)の作成\n",
        "testloader = torch.utils.data.DataLoader(testset, batch_size=4,\n",
        "                                         shuffle=False, num_workers=2)\n",
        "classes = ('plane', 'car', 'bird', 'cat',\n",
        "           'deer', 'dog', 'frog', 'horse', 'ship', 'truck')"
      ],
      "execution_count": 3,
      "outputs": [
        {
          "output_type": "stream",
          "name": "stdout",
          "text": [
            "Files already downloaded and verified\n",
            "Files already downloaded and verified\n"
          ]
        }
      ]
    },
    {
      "cell_type": "markdown",
      "metadata": {
        "id": "ewD-YwQEy4oO"
      },
      "source": [
        "ダウンロードした画像をいくつか表示してみます．"
      ]
    },
    {
      "cell_type": "code",
      "metadata": {
        "id": "wF7HdEvkyUie",
        "colab": {
          "base_uri": "https://localhost:8080/",
          "height": 156
        },
        "outputId": "49a2b9b8-8381-482d-a565-cd0b85bde66d"
      },
      "source": [
        "import matplotlib.pyplot as plt\n",
        "import numpy as np\n",
        "\n",
        "def imshow(img):\n",
        "    img = img / 2 + 0.5  # [-1,1] を [0,1] へ戻す(正規化解除)\n",
        "    npimg = img.numpy()  # torch.Tensor から numpy へ変換\n",
        "    plt.imshow(np.transpose(npimg, (1, 2, 0)))  # チャンネルを最後に並び変える((C,X,Y) -> (X,Y,C))\n",
        "    plt.show()  # 表示\n",
        "\n",
        "\n",
        "# 訓練用画像を取得する\n",
        "# pythonでは順番にデータを取得する際にイテレータと呼ばれるオブジェクトが介在します．\n",
        "# ローダを使用してデータを読み込む際もイテレータを使用します．\n",
        "dataiter = iter(trainloader)  # ローダを使って実際にデータを取得するためのイテレータを作成する．\n",
        "images, labels = dataiter.next()  # イテレータからデータを取得する．\n",
        "\n",
        "# 画像を表示する．\n",
        "imshow(torchvision.utils.make_grid(images))\n",
        "# ラベル(クラス)を表示する．\n",
        "print(' '.join('%5s' % classes[labels[j]] for j in range(4)))"
      ],
      "execution_count": 4,
      "outputs": [
        {
          "output_type": "display_data",
          "data": {
            "text/plain": [
              "<Figure size 432x288 with 1 Axes>"
            ],
            "image/png": "[encoded data removed]"
          },
          "metadata": {
            "needs_background": "light"
          }
        },
        {
          "output_type": "stream",
          "name": "stdout",
          "text": [
            " ship truck truck truck\n"
          ]
        }
      ]
    },
    {
      "cell_type": "markdown",
      "metadata": {
        "id": "qQtk0tyy3JYm"
      },
      "source": [
        "### **2.2 Convolutional Neural Network (CNN) を定義する**\n",
        "\n",
        "以前に定義した NN をコピーして，1チャネル画像(白黒)の替わりに3チャネル画像(カラー)を扱えるよう変更します．"
      ]
    },
    {
      "cell_type": "code",
      "metadata": {
        "id": "qjgi62lW1qPB"
      },
      "source": [
        "import torch.nn as nn\n",
        "import torch.nn.functional as F\n",
        "\n",
        "\n",
        "class Net(nn.Module):\n",
        "    def __init__(self):\n",
        "        super(Net, self).__init__()\n",
        "        self.conv1 = nn.Conv2d(3, 6, 5)  #入力を3チャンネルに変更\n",
        "        self.pool = nn.MaxPool2d(2, 2)\n",
        "        self.conv2 = nn.Conv2d(6, 16, 5)\n",
        "        self.fc1 = nn.Linear(16 * 5 * 5, 120)\n",
        "        self.fc2 = nn.Linear(120, 84)\n",
        "        self.fc3 = nn.Linear(84, 10)\n",
        "\n",
        "    def forward(self, x):\n",
        "        x = self.pool(F.relu(self.conv1(x)))\n",
        "        x = self.pool(F.relu(self.conv2(x)))\n",
        "        x = x.view(-1, 16 * 5 * 5)\n",
        "        x = F.relu(self.fc1(x))\n",
        "        x = F.relu(self.fc2(x))\n",
        "        x = self.fc3(x)\n",
        "        return x\n",
        "\n",
        "\n",
        "net = Net()"
      ],
      "execution_count": 5,
      "outputs": []
    },
    {
      "cell_type": "markdown",
      "metadata": {
        "id": "c8sGLFFJ4myx"
      },
      "source": [
        "### **2.3 損失関数と optimizer を定義する**\n",
        "分類問題でよく使用される Cross-Entropy 損失と慣性項（momentum）を持つ SGD を使用します．"
      ]
    },
    {
      "cell_type": "code",
      "metadata": {
        "id": "KEg59Hh94MIb"
      },
      "source": [
        "import torch.optim as optim\n",
        "\n",
        "criterion = nn.CrossEntropyLoss()\n",
        "optimizer = optim.SGD(net.parameters(), lr=0.001, momentum=0.9)"
      ],
      "execution_count": 6,
      "outputs": []
    },
    {
      "cell_type": "markdown",
      "metadata": {
        "id": "ye0-zalg5oMW"
      },
      "source": [
        "### **2.4 ネットワークを訓練する**\n",
        "CNN の訓練を開始します．データをローダから単純にループで取得し，ネットワークに入力して最適化を行います．\n",
        "\n",
        "以下のコードを実行すると訓練が始まります（数分かかります）．"
      ]
    },
    {
      "cell_type": "code",
      "metadata": {
        "id": "xZ12ZD2t5j8s",
        "colab": {
          "base_uri": "https://localhost:8080/"
        },
        "outputId": "917ef1c1-d3ec-4513-f957-fe6c078a5d3f"
      },
      "source": [
        "for epoch in range(2):  # 訓練データを複数回(2周分)学習する\n",
        "\n",
        "    running_loss = 0.0\n",
        "    for i, data in enumerate(trainloader, 0):\n",
        "        # ローダからデータを取得する; データは [inputs, labels] の形で取得される．\n",
        "        # イテレータを使用していないように見えますが for の内部で使用されています．\n",
        "        inputs, labels = data\n",
        "\n",
        "        # 勾配を0に初期化する(逆伝播に備える)．\n",
        "        optimizer.zero_grad()\n",
        "\n",
        "        # 順伝播 + 逆伝播 + 最適化(訓練)\n",
        "        outputs = net(inputs)\n",
        "        loss = criterion(outputs, labels)\n",
        "        loss.backward()\n",
        "        optimizer.step()\n",
        "\n",
        "        # 統計を表示する．\n",
        "        running_loss += loss.item()\n",
        "        if i % 2000 == 1999:    # 2000 ミニバッチ毎に表示する．\n",
        "            print('[%d, %5d] loss: %.3f' %\n",
        "                  (epoch + 1, i + 1, running_loss / 2000))\n",
        "            running_loss = 0.0\n",
        "\n",
        "print('Finished Training')"
      ],
      "execution_count": 7,
      "outputs": [
        {
          "output_type": "stream",
          "name": "stdout",
          "text": [
            "[1,  2000] loss: 2.200\n",
            "[1,  4000] loss: 1.852\n",
            "[1,  6000] loss: 1.703\n",
            "[1,  8000] loss: 1.612\n",
            "[1, 10000] loss: 1.571\n",
            "[1, 12000] loss: 1.493\n",
            "[2,  2000] loss: 1.430\n",
            "[2,  4000] loss: 1.402\n",
            "[2,  6000] loss: 1.354\n",
            "[2,  8000] loss: 1.326\n",
            "[2, 10000] loss: 1.319\n",
            "[2, 12000] loss: 1.290\n",
            "Finished Training\n"
          ]
        }
      ]
    },
    {
      "cell_type": "markdown",
      "metadata": {
        "id": "HBEIjt-i7r-G"
      },
      "source": [
        "順調に学習が進めば損失の減少が確認できます.\n",
        "\n",
        "訓練されたネットワーク(のパラメタ)を保存します．"
      ]
    },
    {
      "cell_type": "code",
      "metadata": {
        "id": "Th6j360E7hTx"
      },
      "source": [
        "# net.state_dict()によってネットワークの全パラメタ(重み)を格納した辞書を取得し，torch.saveで保存します．\n",
        "# パラメタ(重み)でなくネットワークを丸ごと保存することも可能ですが、後々不便になることが多いです．\n",
        "PATH = './cifar_net.pth'\n",
        "torch.save(net.state_dict(), PATH)"
      ],
      "execution_count": 8,
      "outputs": []
    },
    {
      "cell_type": "markdown",
      "metadata": {
        "id": "iE2TLf2H8jXp"
      },
      "source": [
        "### **2.5 テストデータでネットワークをテストする**\n",
        "ネットワークを訓練データ2周分学習しました．しかしネットワークが本当に汎化的に学習したかどうかをテストデータで調べる必要があります．\n",
        "\n",
        "ネットワークにテストデータを入力した際に出力（予測）されるクラスラベルを正解と比較することで汎化性能のテストを行います．予測が正しければ、サンプルを正解のリストに追加します．\n",
        "\n",
        "まずはテストデータをいくつか表示してみます．"
      ]
    },
    {
      "cell_type": "code",
      "metadata": {
        "id": "gj3a37zy8L5m",
        "colab": {
          "base_uri": "https://localhost:8080/",
          "height": 156
        },
        "outputId": "79979812-47ca-48c3-aa0e-1fa34df2b0ff"
      },
      "source": [
        "# テストデータを取得\n",
        "dataiter = iter(testloader)\n",
        "images, labels = dataiter.next()\n",
        "\n",
        "# 画像を表示\n",
        "imshow(torchvision.utils.make_grid(images))\n",
        "print('GroundTruth: ', ' '.join('%5s' % classes[labels[j]] for j in range(4)))"
      ],
      "execution_count": 9,
      "outputs": [
        {
          "output_type": "display_data",
          "data": {
            "text/plain": [
              "<Figure size 432x288 with 1 Axes>"
            ],
            "image/png": "[encoded data removed]"
          },
          "metadata": {
            "needs_background": "light"
          }
        },
        {
          "output_type": "stream",
          "name": "stdout",
          "text": [
            "GroundTruth:    cat  ship  ship plane\n"
          ]
        }
      ]
    },
    {
      "cell_type": "markdown",
      "metadata": {
        "id": "L_sCl_FU-ld8"
      },
      "source": [
        "次に，先ほど保存したネットワーク（のパラメタ）をロードします（本来ここでは必要ありませんが例示のため行います）．"
      ]
    },
    {
      "cell_type": "code",
      "metadata": {
        "id": "dCZ4SEv--WpK",
        "colab": {
          "base_uri": "https://localhost:8080/"
        },
        "outputId": "b54506fd-4f8a-44b7-917a-24568cfaec09"
      },
      "source": [
        "net = Net()  # ネットワークを再生成する（学習前の初期化されたネットワークになる）．\n",
        "net.load_state_dict(torch.load(PATH))  # 保存しておいた学習後のパラメタ（重み）を読み込む．"
      ],
      "execution_count": 10,
      "outputs": [
        {
          "output_type": "execute_result",
          "data": {
            "text/plain": [
              "<All keys matched successfully>"
            ]
          },
          "metadata": {},
          "execution_count": 10
        }
      ]
    },
    {
      "cell_type": "markdown",
      "metadata": {
        "id": "A-zoCITE_ta-"
      },
      "source": [
        "ここで学習後のパラメタ（重み）をロードしたネットワークにテストデータのラベル（クラス）を予測させてみます．"
      ]
    },
    {
      "cell_type": "code",
      "metadata": {
        "id": "M4qNmkYU_CUc"
      },
      "source": [
        "outputs = net(images)"
      ],
      "execution_count": 11,
      "outputs": []
    },
    {
      "cell_type": "markdown",
      "metadata": {
        "id": "3dImMd4kAFmD"
      },
      "source": [
        "出力は10クラスそれぞれに対する事後確率となります．クラスに対する事後確率が高いほど，ネットワークは画像がそのクラスに所属する確率が高いと予測しています．そのため最も事後確率の高いインデックス（クラス）を取得することでネットワークの予測とします．\n",
        "\n",
        "先ほど表示したテストデータに対する予測を見てみます．"
      ]
    },
    {
      "cell_type": "code",
      "metadata": {
        "id": "NwSml7kNArPl",
        "colab": {
          "base_uri": "https://localhost:8080/"
        },
        "outputId": "cc8066de-32df-4b0e-abe2-219cace95141"
      },
      "source": [
        "_, predicted = torch.max(outputs, 1)\n",
        "\n",
        "print('Predicted: ', ' '.join('%5s' % classes[predicted[j]]\n",
        "                              for j in range(4)))"
      ],
      "execution_count": 12,
      "outputs": [
        {
          "output_type": "stream",
          "name": "stdout",
          "text": [
            "Predicted:    cat  ship  ship  ship\n"
          ]
        }
      ]
    },
    {
      "cell_type": "markdown",
      "metadata": {
        "id": "blONlq3SCTaM"
      },
      "source": [
        "学習が上手くいっていればまずまず正しい予測が出るはずです．\n",
        "\n",
        "次にネットワークがテストデータ全体に対してどの程度正しい予測をするのか確認します．"
      ]
    },
    {
      "cell_type": "code",
      "metadata": {
        "id": "sffo4QxfA-TH",
        "colab": {
          "base_uri": "https://localhost:8080/"
        },
        "outputId": "f534ab2c-16a7-4a66-a7ee-fc2576294794"
      },
      "source": [
        "correct = 0\n",
        "total = 0\n",
        "with torch.no_grad():  #勾配計算をしない宣言（逆伝播用の計算グラフを作成しないことでメモリ節約，速度向上する）\n",
        "    for data in testloader:\n",
        "        inputs, labels = data\n",
        "        outputs = net(inputs)\n",
        "        _, predicted = torch.max(outputs, 1)\n",
        "        total += labels.size(0)\n",
        "        correct += (predicted == labels).sum().item()\n",
        "\n",
        "print('Accuracy of the network on the 10000 test images: %d %%' % (\n",
        "    100 * correct / total))"
      ],
      "execution_count": 13,
      "outputs": [
        {
          "output_type": "stream",
          "name": "stdout",
          "text": [
            "Accuracy of the network on the 10000 test images: 54 %\n"
          ]
        }
      ]
    },
    {
      "cell_type": "markdown",
      "metadata": {
        "id": "0SXM48FmDjqc"
      },
      "source": [
        "予測精度が 10 % 以上であればネットワークは正しく学習していることになります（10 クラスから無作為に1つのクラスを選択すると精度は 10 %）．\n",
        "\n",
        "最後に各クラス毎の予測精度を確認してみます．"
      ]
    },
    {
      "cell_type": "code",
      "metadata": {
        "id": "Tmob4foxCY8S",
        "colab": {
          "base_uri": "https://localhost:8080/"
        },
        "outputId": "8b827a8c-8477-4774-ce5f-2a33c7b81d74"
      },
      "source": [
        "class_correct = list(0. for i in range(10))\n",
        "class_total = list(0. for i in range(10))\n",
        "with torch.no_grad():\n",
        "    for data in testloader:\n",
        "        inputs, labels = data\n",
        "        outputs = net(inputs)\n",
        "        _, predicted = torch.max(outputs, 1)\n",
        "        c = (predicted == labels).squeeze()\n",
        "        for i in range(4):\n",
        "            label = labels[i]\n",
        "            class_correct[label] += c[i].item()\n",
        "            class_total[label] += 1\n",
        "\n",
        "\n",
        "for i in range(10):\n",
        "    print('Accuracy of %5s : %2d %%' % (\n",
        "        classes[i], 100 * class_correct[i] / class_total[i]))"
      ],
      "execution_count": 14,
      "outputs": [
        {
          "output_type": "stream",
          "name": "stdout",
          "text": [
            "Accuracy of plane : 47 %\n",
            "Accuracy of   car : 64 %\n",
            "Accuracy of  bird : 27 %\n",
            "Accuracy of   cat : 47 %\n",
            "Accuracy of  deer : 60 %\n",
            "Accuracy of   dog : 23 %\n",
            "Accuracy of  frog : 69 %\n",
            "Accuracy of horse : 64 %\n",
            "Accuracy of  ship : 78 %\n",
            "Accuracy of truck : 62 %\n"
          ]
        }
      ]
    },
    {
      "cell_type": "markdown",
      "metadata": {
        "id": "46_EGLM31J1T"
      },
      "source": [
        "# 課題\n",
        "前章で実装したAlexNetを使ってCIFAR-10を学習するコードを書いてください．\n",
        "\n",
        "<details>\n",
        "<summary>\n",
        "課題：ヒント\n",
        "</summary>\n",
        "前章で実装したAlexNetは3 * 224 *  224の画像入力でしたが、CIFAR-10は3 * 32 * 32の画像入力なので、モデルのパラメータを変更する必要があります. 各層の入力次元と出力次元が合うようにconv1のkernel_size, padding, strideとfc1の入力次元を変更してください. \n",
        "\n",
        "・Conv層、max_pool2dは入力が縦横ともに$W_{in}$次元とすると出力の縦横の次元$W_{out}$は以下のように表せます。\n",
        "\n",
        "$W_{out} = \\frac{W_{in}+2\\times{}padding-kernel\\_size}{stride}+1$\n",
        "\n",
        "例えば32 * 32の画像をkernel_size = 3, stride = 1, padding = 1のConv2d層に入力すると以下の計算により、出力の縦横の次元は32 * 32となります.\n",
        "\n",
        "$32 = \\frac{32 + 2\\times{}1-3}{1}+1$\n",
        "\n",
        "また、Conv層はstrideを省略するとstride=1となり、max_pool2dはstrideを省略するとstride = kernel_sizeとなる。\n",
        "\n",
        "</details>"
      ]
    },
    {
      "cell_type": "code",
      "metadata": {
        "id": "LnOXyI0XEKdC"
      },
      "source": [
        "class MyAlexNet(nn.Module):\n",
        "  def __init__(self, num_classes):\n",
        "    super(MyAlexNet, self).__init__()\n",
        "    self.conv1 = nn.Conv2d(3, 96, 3, padding=1)\n",
        "    self.conv2 = nn.Conv2d(96, 256, 3, padding=2)\n",
        "    self.conv3 = nn.Conv2d(256, 384, 3, padding=1)\n",
        "    self.conv4 = nn.Conv2d(384, 384, 3, padding=1)\n",
        "    self.conv5 = nn.Conv2d(384, 256, 3, padding=1)\n",
        "    self.fc1 = nn.Linear(256 * 4 * 4, 4096)\n",
        "    self.fc2 = nn.Linear(4096, 4096)\n",
        "    self.fc3 = nn.Linear(4096, num_classes)\n",
        "\n",
        "\n",
        "  def forward(self, x):\n",
        "    x = F.max_pool2d(F.relu(self.conv1(x)), 2, 2)\n",
        "    x = F.max_pool2d(F.relu(self.conv2(x)), 2, 2)\n",
        "    x = F.relu(self.conv3(x))\n",
        "    x = F.relu(self.conv4(x))\n",
        "    x = F.max_pool2d(F.relu(self.conv5(x)), 2, 2)\n",
        "    x = x.view(-1, self.num_flat_features(x))\n",
        "    x = F.relu(self.fc1(x))\n",
        "    x = F.relu(self.fc2(x))\n",
        "    x = self.fc3(x)\n",
        "    return x\n",
        "\n",
        "\n",
        "  def num_flat_features(self, x):\n",
        "    size = x.size()[1:]  # all dimensions except the batch dimension\n",
        "    num_features = 1\n",
        "    for s in size:\n",
        "        num_features *= s\n",
        "    return num_features\n",
        "\n",
        "\n",
        "device = 'cuda' if torch.cuda.is_available() else 'cpu'\n",
        "mynet = MyAlexNet(10).to(device)\n",
        "\n",
        "criterion = nn.CrossEntropyLoss()\n",
        "optimizer = optim.SGD(mynet.parameters(), lr=0.02)"
      ],
      "execution_count": 43,
      "outputs": []
    },
    {
      "cell_type": "code",
      "metadata": {
        "id": "aJl7o1de6K_x",
        "colab": {
          "base_uri": "https://localhost:8080/"
        },
        "outputId": "fd2f0ad4-482f-4057-e492-e040c4e179c7"
      },
      "source": [
        "for epoch in range(20):  # 訓練データを複数回(20周分)学習する．\n",
        "\n",
        "    running_loss = 0.0\n",
        "    for i, data in enumerate(trainloader, 0):\n",
        "        # ローダからデータを読み込む; データは [inputs, labels] の形で取得される．\n",
        "        inputs, labels = data\n",
        "        inputs, labels = inputs.to(device), labels.to(device)\n",
        "\n",
        "        # 勾配を0に初期化する（逆伝播に備える）．\n",
        "        optimizer.zero_grad()\n",
        "\n",
        "        # 順伝播 + 逆伝播 + 最適化\n",
        "        outputs = mynet(inputs)\n",
        "        loss = criterion(outputs, labels)\n",
        "        loss.backward()\n",
        "        optimizer.step()\n",
        "\n",
        "        # 統計を表示する．\n",
        "        running_loss += loss.item()\n",
        "        if i % 2000 == 1999:    # 2000 ミニバッチ毎に表示する\n",
        "            print('[%d, %5d] loss: %.3f' %\n",
        "                  (epoch + 1, i + 1, running_loss / 2000))\n",
        "            running_loss = 0.0\n",
        "\n",
        "print('Finished Training')"
      ],
      "execution_count": 44,
      "outputs": [
        {
          "output_type": "stream",
          "name": "stdout",
          "text": [
            "[1,  2000] loss: 2.209\n",
            "[1,  4000] loss: 1.884\n",
            "[1,  6000] loss: 1.665\n",
            "[1,  8000] loss: 1.530\n",
            "[1, 10000] loss: 1.402\n",
            "[1, 12000] loss: 1.292\n",
            "[2,  2000] loss: 1.166\n",
            "[2,  4000] loss: 1.113\n",
            "[2,  6000] loss: 1.048\n",
            "[2,  8000] loss: 1.028\n",
            "[2, 10000] loss: 0.954\n",
            "[2, 12000] loss: 0.911\n",
            "[3,  2000] loss: 0.794\n",
            "[3,  4000] loss: 0.782\n",
            "[3,  6000] loss: 0.764\n",
            "[3,  8000] loss: 0.744\n",
            "[3, 10000] loss: 0.745\n",
            "[3, 12000] loss: 0.710\n",
            "[4,  2000] loss: 0.556\n",
            "[4,  4000] loss: 0.586\n",
            "[4,  6000] loss: 0.584\n",
            "[4,  8000] loss: 0.579\n",
            "[4, 10000] loss: 0.565\n",
            "[4, 12000] loss: 0.578\n",
            "[5,  2000] loss: 0.393\n",
            "[5,  4000] loss: 0.436\n",
            "[5,  6000] loss: 0.434\n",
            "[5,  8000] loss: 0.446\n",
            "[5, 10000] loss: 0.427\n",
            "[5, 12000] loss: 0.454\n",
            "[6,  2000] loss: 0.261\n",
            "[6,  4000] loss: 0.294\n",
            "[6,  6000] loss: 0.304\n",
            "[6,  8000] loss: 0.321\n",
            "[6, 10000] loss: 0.342\n",
            "[6, 12000] loss: 0.347\n",
            "[7,  2000] loss: 0.181\n",
            "[7,  4000] loss: 0.206\n",
            "[7,  6000] loss: 0.228\n",
            "[7,  8000] loss: 0.229\n",
            "[7, 10000] loss: 0.256\n",
            "[7, 12000] loss: 0.253\n",
            "[8,  2000] loss: 0.133\n",
            "[8,  4000] loss: 0.164\n",
            "[8,  6000] loss: 0.169\n",
            "[8,  8000] loss: 0.176\n",
            "[8, 10000] loss: 0.189\n",
            "[8, 12000] loss: 0.178\n",
            "[9,  2000] loss: 0.118\n",
            "[9,  4000] loss: 0.135\n",
            "[9,  6000] loss: 0.134\n",
            "[9,  8000] loss: 0.145\n",
            "[9, 10000] loss: 0.140\n",
            "[9, 12000] loss: 0.174\n",
            "[10,  2000] loss: 0.090\n",
            "[10,  4000] loss: 0.102\n",
            "[10,  6000] loss: 0.106\n",
            "[10,  8000] loss: 0.114\n",
            "[10, 10000] loss: 0.128\n",
            "[10, 12000] loss: 0.153\n",
            "[11,  2000] loss: 0.078\n",
            "[11,  4000] loss: 0.087\n",
            "[11,  6000] loss: 0.114\n",
            "[11,  8000] loss: 0.096\n",
            "[11, 10000] loss: 0.104\n",
            "[11, 12000] loss: 0.098\n",
            "[12,  2000] loss: 0.060\n",
            "[12,  4000] loss: 0.065\n",
            "[12,  6000] loss: 0.078\n",
            "[12,  8000] loss: 0.089\n",
            "[12, 10000] loss: 0.081\n",
            "[12, 12000] loss: 0.088\n",
            "[13,  2000] loss: 0.062\n",
            "[13,  4000] loss: 0.079\n",
            "[13,  6000] loss: 0.066\n",
            "[13,  8000] loss: 0.101\n",
            "[13, 10000] loss: 0.077\n",
            "[13, 12000] loss: 0.095\n",
            "[14,  2000] loss: 0.034\n",
            "[14,  4000] loss: 0.059\n",
            "[14,  6000] loss: 0.060\n",
            "[14,  8000] loss: 0.064\n",
            "[14, 10000] loss: 0.055\n",
            "[14, 12000] loss: 0.092\n",
            "[15,  2000] loss: 0.035\n",
            "[15,  4000] loss: 0.048\n",
            "[15,  6000] loss: 0.067\n",
            "[15,  8000] loss: 0.071\n",
            "[15, 10000] loss: 0.068\n",
            "[15, 12000] loss: 0.067\n",
            "[16,  2000] loss: 0.048\n",
            "[16,  4000] loss: 0.030\n",
            "[16,  6000] loss: 0.060\n",
            "[16,  8000] loss: 0.065\n",
            "[16, 10000] loss: 0.047\n",
            "[16, 12000] loss: 0.051\n",
            "[17,  2000] loss: 0.039\n",
            "[17,  4000] loss: 0.037\n",
            "[17,  6000] loss: 0.051\n",
            "[17,  8000] loss: 0.064\n",
            "[17, 10000] loss: 0.078\n",
            "[17, 12000] loss: 0.058\n",
            "[18,  2000] loss: 0.042\n",
            "[18,  4000] loss: 0.043\n",
            "[18,  6000] loss: 0.045\n",
            "[18,  8000] loss: 0.066\n",
            "[18, 10000] loss: 0.045\n",
            "[18, 12000] loss: 0.051\n",
            "[19,  2000] loss: 0.049\n",
            "[19,  4000] loss: 0.042\n",
            "[19,  6000] loss: 0.057\n",
            "[19,  8000] loss: 0.040\n",
            "[19, 10000] loss: 0.044\n",
            "[19, 12000] loss: 0.057\n",
            "[20,  2000] loss: 0.043\n",
            "[20,  4000] loss: 0.042\n",
            "[20,  6000] loss: 0.056\n",
            "[20,  8000] loss: 0.040\n",
            "[20, 10000] loss: 0.060\n",
            "[20, 12000] loss: 0.047\n",
            "Finished Training\n"
          ]
        }
      ]
    },
    {
      "cell_type": "code",
      "metadata": {
        "id": "3DVpnhHp6jfQ",
        "colab": {
          "base_uri": "https://localhost:8080/"
        },
        "outputId": "78445acc-d2b5-41f8-83db-6cb35c5b4518"
      },
      "source": [
        "correct = 0\n",
        "total = 0\n",
        "with torch.no_grad():  #勾配計算をしない宣言（逆伝播用の計算グラフを作成しないことでメモリ節約、速度向上する）\n",
        "    for data in testloader:\n",
        "        images, labels = data\n",
        "        images, labels = images.to(device), labels.to(device)\n",
        "        outputs = mynet(images)\n",
        "        _, predicted = torch.max(outputs.data, 1)\n",
        "        total += labels.size(0)\n",
        "        correct += (predicted == labels).sum().item()\n",
        "\n",
        "print('Accuracy of the network on the 10000 test images: %d %%' % (\n",
        "    100 * correct / total))"
      ],
      "execution_count": 46,
      "outputs": [
        {
          "output_type": "stream",
          "name": "stdout",
          "text": [
            "Accuracy of the network on the 10000 test images: 79 %\n"
          ]
        }
      ]
    },
    {
      "cell_type": "markdown",
      "metadata": {
        "id": "FoCdJw2i68ig"
      },
      "source": [
        "更に興味があれば，optimizerを`optim.Adam`に変えたり，損失関数をMSEに変えたりして学習を実行してみてください．"
      ]
    }
  ]
}